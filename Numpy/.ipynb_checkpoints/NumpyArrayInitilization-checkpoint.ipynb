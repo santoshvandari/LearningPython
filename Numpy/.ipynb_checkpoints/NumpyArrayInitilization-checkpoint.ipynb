{
 "cells": [
  {
   "cell_type": "markdown",
   "id": "76c02e98-be99-48cb-a069-ded125e8f788",
   "metadata": {
    "jp-MarkdownHeadingCollapsed": true
   },
   "source": [
    "## Array Initialization"
   ]
  },
  {
   "cell_type": "code",
   "execution_count": 1,
   "id": "47a74f56-6fe5-4a00-a255-bc29c2daa46b",
   "metadata": {},
   "outputs": [],
   "source": [
    "import numpy as np"
   ]
  },
  {
   "cell_type": "code",
   "execution_count": 2,
   "id": "94f5eb7d-ef55-43d1-b2df-dfb5cf8c547e",
   "metadata": {},
   "outputs": [],
   "source": [
    "arr=[[10,20,30,40,50]]\n",
    "nparr=np.array(arr,np.int32)"
   ]
  },
  {
   "cell_type": "code",
   "execution_count": 3,
   "id": "32b31d82-018d-4671-8b49-338f02bb3038",
   "metadata": {},
   "outputs": [
    {
     "data": {
      "text/plain": [
       "array([[10, 20, 30, 40, 50]], dtype=int32)"
      ]
     },
     "execution_count": 3,
     "metadata": {},
     "output_type": "execute_result"
    }
   ],
   "source": [
    "nparr"
   ]
  },
  {
   "cell_type": "code",
   "execution_count": 4,
   "id": "0592ab48-0d9c-4d6e-8ada-7cd4ab29569e",
   "metadata": {},
   "outputs": [
    {
     "data": {
      "text/plain": [
       "np.int32(40)"
      ]
     },
     "execution_count": 4,
     "metadata": {},
     "output_type": "execute_result"
    }
   ],
   "source": [
    "nparr[0,3]"
   ]
  },
  {
   "cell_type": "code",
   "execution_count": 5,
   "id": "07ddce0a-013e-41ca-b286-aaf71772ab7d",
   "metadata": {},
   "outputs": [],
   "source": [
    "nparr[0,2]=100"
   ]
  },
  {
   "cell_type": "code",
   "execution_count": 6,
   "id": "9ca2885c-837b-4c2c-ba06-23830784a013",
   "metadata": {},
   "outputs": [
    {
     "data": {
      "text/plain": [
       "array([[ 10,  20, 100,  40,  50]], dtype=int32)"
      ]
     },
     "execution_count": 6,
     "metadata": {},
     "output_type": "execute_result"
    }
   ],
   "source": [
    "nparr"
   ]
  },
  {
   "cell_type": "markdown",
   "id": "bfeab718-cb5f-4e14-a83f-daf3ec442148",
   "metadata": {},
   "source": [
    "## 2D Array Initialization"
   ]
  },
  {
   "cell_type": "code",
   "execution_count": 8,
   "id": "d2355ea2-805a-41c8-8ce0-1360541106df",
   "metadata": {},
   "outputs": [],
   "source": [
    "array=[[10,20,30],[10,80,40]]\n",
    "nparray=np.array(array)"
   ]
  },
  {
   "cell_type": "code",
   "execution_count": 9,
   "id": "03d5baf0-95ae-4f39-aef5-2788e1dc0a0d",
   "metadata": {},
   "outputs": [
    {
     "data": {
      "text/plain": [
       "array([[10, 20, 30],\n",
       "       [10, 80, 40]])"
      ]
     },
     "execution_count": 9,
     "metadata": {},
     "output_type": "execute_result"
    }
   ],
   "source": [
    "nparray"
   ]
  },
  {
   "cell_type": "code",
   "execution_count": 10,
   "id": "5cfda9be-322f-45ed-9ea1-1fc7a330eb83",
   "metadata": {},
   "outputs": [
    {
     "data": {
      "text/plain": [
       "6"
      ]
     },
     "execution_count": 10,
     "metadata": {},
     "output_type": "execute_result"
    }
   ],
   "source": [
    "nparray.size"
   ]
  },
  {
   "cell_type": "code",
   "execution_count": 11,
   "id": "d0f63941-0b5e-440c-b24d-1cc94f672f22",
   "metadata": {},
   "outputs": [
    {
     "data": {
      "text/plain": [
       "(2, 3)"
      ]
     },
     "execution_count": 11,
     "metadata": {},
     "output_type": "execute_result"
    }
   ],
   "source": [
    "nparray.shape"
   ]
  },
  {
   "cell_type": "code",
   "execution_count": 12,
   "id": "983a0a47-d3e3-4921-a86b-1f08d15fd35a",
   "metadata": {},
   "outputs": [
    {
     "data": {
      "text/plain": [
       "dtype('int64')"
      ]
     },
     "execution_count": 12,
     "metadata": {},
     "output_type": "execute_result"
    }
   ],
   "source": [
    "nparray.dtype"
   ]
  },
  {
   "cell_type": "markdown",
   "id": "9f317531-d1da-4b26-b90b-dd0caee1df98",
   "metadata": {
    "jp-MarkdownHeadingCollapsed": true
   },
   "source": [
    "### Reshaping to 2-D Array"
   ]
  },
  {
   "cell_type": "code",
   "execution_count": 13,
   "id": "c80b35b5-ed8d-412a-a4dd-71257d24e5ed",
   "metadata": {},
   "outputs": [
    {
     "data": {
      "text/plain": [
       "array([ 0,  1,  2,  3,  4,  5,  6,  7,  8,  9, 10, 11, 12, 13, 14, 15, 16,\n",
       "       17, 18, 19, 20, 21, 22, 23, 24, 25, 26, 27, 28, 29, 30, 31, 32, 33,\n",
       "       34, 35, 36, 37, 38, 39, 40, 41, 42, 43, 44, 45, 46, 47, 48, 49, 50,\n",
       "       51, 52, 53, 54, 55, 56, 57, 58, 59, 60, 61, 62, 63, 64, 65, 66, 67,\n",
       "       68, 69, 70, 71, 72, 73, 74, 75, 76, 77, 78, 79, 80, 81, 82, 83, 84,\n",
       "       85, 86, 87, 88, 89, 90, 91, 92, 93, 94, 95, 96, 97, 98])"
      ]
     },
     "execution_count": 13,
     "metadata": {},
     "output_type": "execute_result"
    }
   ],
   "source": [
    "arr=np.arange(99)\n",
    "arr"
   ]
  },
  {
   "cell_type": "code",
   "execution_count": 18,
   "id": "dcb8caab-542a-4d05-9f80-86b4e3e8df1d",
   "metadata": {},
   "outputs": [
    {
     "data": {
      "text/plain": [
       "array([[ 0,  1,  2,  3,  4,  5,  6,  7,  8,  9, 10],\n",
       "       [11, 12, 13, 14, 15, 16, 17, 18, 19, 20, 21],\n",
       "       [22, 23, 24, 25, 26, 27, 28, 29, 30, 31, 32],\n",
       "       [33, 34, 35, 36, 37, 38, 39, 40, 41, 42, 43],\n",
       "       [44, 45, 46, 47, 48, 49, 50, 51, 52, 53, 54],\n",
       "       [55, 56, 57, 58, 59, 60, 61, 62, 63, 64, 65],\n",
       "       [66, 67, 68, 69, 70, 71, 72, 73, 74, 75, 76],\n",
       "       [77, 78, 79, 80, 81, 82, 83, 84, 85, 86, 87],\n",
       "       [88, 89, 90, 91, 92, 93, 94, 95, 96, 97, 98]])"
      ]
     },
     "execution_count": 18,
     "metadata": {},
     "output_type": "execute_result"
    }
   ],
   "source": [
    "arr=arr.reshape(9,11)\n",
    "arr"
   ]
  },
  {
   "cell_type": "markdown",
   "id": "27117bfd-7a52-497f-86ce-a6b65b6cea3d",
   "metadata": {
    "jp-MarkdownHeadingCollapsed": true
   },
   "source": [
    "### Reshaping to 1-D array"
   ]
  },
  {
   "cell_type": "code",
   "execution_count": 21,
   "id": "0e8c7602-89e8-4094-9544-7254a288f948",
   "metadata": {},
   "outputs": [
    {
     "data": {
      "text/plain": [
       "[[0, 1, 2, 3, 4, 5, 6, 7, 8, 9, 10],\n",
       " [11, 12, 13, 14, 15, 16, 17, 18, 19, 20, 21],\n",
       " [22, 23, 24, 25, 26, 27, 28, 29, 30, 31, 32]]"
      ]
     },
     "execution_count": 21,
     "metadata": {},
     "output_type": "execute_result"
    }
   ],
   "source": [
    "array=[[ 0,  1,  2,  3,  4,  5,  6,  7,  8,  9, 10],\n",
    "       [11, 12, 13, 14, 15, 16, 17, 18, 19, 20, 21],\n",
    "       [22, 23, 24, 25, 26, 27, 28, 29, 30, 31, 32]]\n",
    "array"
   ]
  },
  {
   "cell_type": "code",
   "execution_count": 24,
   "id": "cb2aa974-6ed4-403c-87cc-40b1617db1c2",
   "metadata": {},
   "outputs": [
    {
     "data": {
      "text/plain": [
       "array([ 0,  1,  2,  3,  4,  5,  6,  7,  8,  9, 10, 11, 12, 13, 14, 15, 16,\n",
       "       17, 18, 19, 20, 21, 22, 23, 24, 25, 26, 27, 28, 29, 30, 31, 32])"
      ]
     },
     "execution_count": 24,
     "metadata": {},
     "output_type": "execute_result"
    }
   ],
   "source": [
    "array=np.ravel(array)\n",
    "array"
   ]
  },
  {
   "cell_type": "code",
   "execution_count": null,
   "id": "f92c1ae5-eb17-440c-afc0-fd2df15e3271",
   "metadata": {},
   "outputs": [],
   "source": []
  }
 ],
 "metadata": {
  "kernelspec": {
   "display_name": "Python 3 (ipykernel)",
   "language": "python",
   "name": "python3"
  },
  "language_info": {
   "codemirror_mode": {
    "name": "ipython",
    "version": 3
   },
   "file_extension": ".py",
   "mimetype": "text/x-python",
   "name": "python",
   "nbconvert_exporter": "python",
   "pygments_lexer": "ipython3",
   "version": "3.10.12"
  }
 },
 "nbformat": 4,
 "nbformat_minor": 5
}
