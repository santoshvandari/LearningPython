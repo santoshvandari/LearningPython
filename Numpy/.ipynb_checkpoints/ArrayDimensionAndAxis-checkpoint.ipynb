{
 "cells": [
  {
   "cell_type": "markdown",
   "id": "037fc8b7-6623-42d8-8903-db2a196478ab",
   "metadata": {},
   "source": [
    "## Array Dimenison & Axis"
   ]
  },
  {
   "cell_type": "code",
   "execution_count": 1,
   "id": "3324145f-2b3f-4c7c-9f65-5554aaa8a5a1",
   "metadata": {},
   "outputs": [],
   "source": [
    "import numpy as np"
   ]
  },
  {
   "cell_type": "code",
   "execution_count": 2,
   "id": "51c28e5c-77bd-487a-b036-a6cb9c49c28b",
   "metadata": {},
   "outputs": [
    {
     "data": {
      "text/plain": [
       "array([[4, 5, 6],\n",
       "       [3, 2, 8],\n",
       "       [9, 6, 2]])"
      ]
     },
     "execution_count": 2,
     "metadata": {},
     "output_type": "execute_result"
    }
   ],
   "source": [
    "arr=[[4,5,6],[3,2,8],[9,6,2]]\n",
    "arr=np.array(arr)\n",
    "arr"
   ]
  },
  {
   "cell_type": "code",
   "execution_count": 3,
   "id": "e6b599d9-1867-44dc-b0dc-021c427394fe",
   "metadata": {},
   "outputs": [
    {
     "data": {
      "text/plain": [
       "array([16, 13, 16])"
      ]
     },
     "execution_count": 3,
     "metadata": {},
     "output_type": "execute_result"
    }
   ],
   "source": [
    "arr.sum(axis=0) # Sum the Row"
   ]
  },
  {
   "cell_type": "code",
   "execution_count": 4,
   "id": "dacb9ef9-729f-4fb0-bd16-2f92f7366b71",
   "metadata": {},
   "outputs": [
    {
     "data": {
      "text/plain": [
       "array([15, 13, 17])"
      ]
     },
     "execution_count": 4,
     "metadata": {},
     "output_type": "execute_result"
    }
   ],
   "source": [
    "arr.sum(axis=1) # Sum the Columns"
   ]
  },
  {
   "cell_type": "code",
   "execution_count": 5,
   "id": "2c49e9db-2fed-4b7d-8ffb-5385723844a3",
   "metadata": {},
   "outputs": [
    {
     "data": {
      "text/plain": [
       "array([[4, 3, 9],\n",
       "       [5, 2, 6],\n",
       "       [6, 8, 2]])"
      ]
     },
     "execution_count": 5,
     "metadata": {},
     "output_type": "execute_result"
    }
   ],
   "source": [
    "arr.T # Transpose the Array"
   ]
  },
  {
   "cell_type": "code",
   "execution_count": 7,
   "id": "37e845eb-57ca-4be7-a137-cf682cc52d35",
   "metadata": {},
   "outputs": [
    {
     "name": "stdout",
     "output_type": "stream",
     "text": [
      "4\n",
      "5\n",
      "6\n",
      "3\n",
      "2\n",
      "8\n",
      "9\n",
      "6\n",
      "2\n"
     ]
    }
   ],
   "source": [
    "for i in arr.flat:  # arr.flat convert the array in iterable\n",
    "    print(i)"
   ]
  },
  {
   "cell_type": "code",
   "execution_count": null,
   "id": "eda7fd56-c28b-448d-b07a-fb9afc783566",
   "metadata": {},
   "outputs": [],
   "source": []
  }
 ],
 "metadata": {
  "kernelspec": {
   "display_name": "Python 3 (ipykernel)",
   "language": "python",
   "name": "python3"
  },
  "language_info": {
   "codemirror_mode": {
    "name": "ipython",
    "version": 3
   },
   "file_extension": ".py",
   "mimetype": "text/x-python",
   "name": "python",
   "nbconvert_exporter": "python",
   "pygments_lexer": "ipython3",
   "version": "3.10.12"
  }
 },
 "nbformat": 4,
 "nbformat_minor": 5
}
