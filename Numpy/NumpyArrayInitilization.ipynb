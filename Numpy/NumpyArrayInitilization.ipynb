{
 "cells": [
  {
   "cell_type": "code",
   "execution_count": 1,
   "id": "47a74f56-6fe5-4a00-a255-bc29c2daa46b",
   "metadata": {},
   "outputs": [],
   "source": [
    "import numpy as np"
   ]
  },
  {
   "cell_type": "code",
   "execution_count": 4,
   "id": "94f5eb7d-ef55-43d1-b2df-dfb5cf8c547e",
   "metadata": {},
   "outputs": [],
   "source": [
    "arr=[[10,20,30,40,50]]\n",
    "nparr=np.array(arr,np.int32)"
   ]
  },
  {
   "cell_type": "code",
   "execution_count": 5,
   "id": "32b31d82-018d-4671-8b49-338f02bb3038",
   "metadata": {},
   "outputs": [
    {
     "data": {
      "text/plain": [
       "array([[10, 20, 30, 40, 50]], dtype=int32)"
      ]
     },
     "execution_count": 5,
     "metadata": {},
     "output_type": "execute_result"
    }
   ],
   "source": [
    "nparr"
   ]
  },
  {
   "cell_type": "code",
   "execution_count": 7,
   "id": "0592ab48-0d9c-4d6e-8ada-7cd4ab29569e",
   "metadata": {},
   "outputs": [
    {
     "data": {
      "text/plain": [
       "np.int32(40)"
      ]
     },
     "execution_count": 7,
     "metadata": {},
     "output_type": "execute_result"
    }
   ],
   "source": [
    "nparr[0,3]"
   ]
  },
  {
   "cell_type": "code",
   "execution_count": 8,
   "id": "07ddce0a-013e-41ca-b286-aaf71772ab7d",
   "metadata": {},
   "outputs": [],
   "source": [
    "nparr[0,2]=100"
   ]
  },
  {
   "cell_type": "code",
   "execution_count": 9,
   "id": "9ca2885c-837b-4c2c-ba06-23830784a013",
   "metadata": {},
   "outputs": [
    {
     "data": {
      "text/plain": [
       "array([[ 10,  20, 100,  40,  50]], dtype=int32)"
      ]
     },
     "execution_count": 9,
     "metadata": {},
     "output_type": "execute_result"
    }
   ],
   "source": [
    "nparr"
   ]
  },
  {
   "cell_type": "code",
   "execution_count": null,
   "id": "d2355ea2-805a-41c8-8ce0-1360541106df",
   "metadata": {},
   "outputs": [],
   "source": []
  }
 ],
 "metadata": {
  "kernelspec": {
   "display_name": "Python 3 (ipykernel)",
   "language": "python",
   "name": "python3"
  },
  "language_info": {
   "codemirror_mode": {
    "name": "ipython",
    "version": 3
   },
   "file_extension": ".py",
   "mimetype": "text/x-python",
   "name": "python",
   "nbconvert_exporter": "python",
   "pygments_lexer": "ipython3",
   "version": "3.10.12"
  }
 },
 "nbformat": 4,
 "nbformat_minor": 5
}
