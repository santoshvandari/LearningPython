{
 "cells": [
  {
   "cell_type": "markdown",
   "id": "037fc8b7-6623-42d8-8903-db2a196478ab",
   "metadata": {},
   "source": [
    "## Array Dimenison & Axis"
   ]
  },
  {
   "cell_type": "code",
   "execution_count": null,
   "id": "51c28e5c-77bd-487a-b036-a6cb9c49c28b",
   "metadata": {},
   "outputs": [],
   "source": []
  }
 ],
 "metadata": {
  "kernelspec": {
   "display_name": "Python 3 (ipykernel)",
   "language": "python",
   "name": "python3"
  },
  "language_info": {
   "codemirror_mode": {
    "name": "ipython",
    "version": 3
   },
   "file_extension": ".py",
   "mimetype": "text/x-python",
   "name": "python",
   "nbconvert_exporter": "python",
   "pygments_lexer": "ipython3",
   "version": "3.10.12"
  }
 },
 "nbformat": 4,
 "nbformat_minor": 5
}
